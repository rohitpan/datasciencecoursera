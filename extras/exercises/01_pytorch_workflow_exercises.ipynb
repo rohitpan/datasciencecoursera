{
  "nbformat": 4,
  "nbformat_minor": 0,
  "metadata": {
    "colab": {
      "name": "01_pytorch_workflow_exercises.ipynb",
      "provenance": [],
      "gpuType": "T4",
      "include_colab_link": true
    },
    "kernelspec": {
      "name": "python3",
      "display_name": "Python 3"
    },
    "language_info": {
      "name": "python"
    },
    "accelerator": "GPU"
  },
  "cells": [
    {
      "cell_type": "markdown",
      "metadata": {
        "id": "view-in-github",
        "colab_type": "text"
      },
      "source": [
        "<a href=\"https://colab.research.google.com/github/rohitpan/datasciencecoursera/blob/master/extras/exercises/01_pytorch_workflow_exercises.ipynb\" target=\"_parent\"><img src=\"https://colab.research.google.com/assets/colab-badge.svg\" alt=\"Open In Colab\"/></a>"
      ]
    },
    {
      "cell_type": "markdown",
      "source": [
        "# 01. PyTorch Workflow Exercise Template\n",
        "\n",
        "The following is a template for the PyTorch workflow exercises.\n",
        "\n",
        "It's only starter code and it's your job to fill in the blanks.\n",
        "\n",
        "Because of the flexibility of PyTorch, there may be more than one way to answer the question.\n",
        "\n",
        "Don't worry about trying to be *right* just try writing code that suffices the question.\n",
        "\n",
        "You can see one form of [solutions on GitHub](https://github.com/mrdbourke/pytorch-deep-learning/tree/main/extras/solutions) (but try the exercises below yourself first!)."
      ],
      "metadata": {
        "id": "N8LsPXZti9Sw"
      }
    },
    {
      "cell_type": "code",
      "source": [
        "# Import necessary libraries\n",
        "import torch\n",
        "from torch import nn\n",
        "import matplotlib.pyplot as plt"
      ],
      "metadata": {
        "id": "Glu2fM4dkNlx"
      },
      "execution_count": 3,
      "outputs": []
    },
    {
      "cell_type": "code",
      "source": [
        "# Setup device-agnostic code\n",
        "device = \"cuda\" if torch.cuda.is_available() else \"cpu\"\n",
        "device"
      ],
      "metadata": {
        "id": "LqKhXY26m31s",
        "outputId": "d5bd71a8-f780-47d1-9035-40c49654ef5e",
        "colab": {
          "base_uri": "https://localhost:8080/",
          "height": 35
        }
      },
      "execution_count": 4,
      "outputs": [
        {
          "output_type": "execute_result",
          "data": {
            "text/plain": [
              "'cuda'"
            ],
            "application/vnd.google.colaboratory.intrinsic+json": {
              "type": "string"
            }
          },
          "metadata": {},
          "execution_count": 4
        }
      ]
    },
    {
      "cell_type": "markdown",
      "source": [
        "## 1. Create a straight line dataset using the linear regression formula (`weight * X + bias`).\n",
        "  * Set `weight=0.3` and `bias=0.9` there should be at least 100 datapoints total.\n",
        "  * Split the data into 80% training, 20% testing.\n",
        "  * Plot the training and testing data so it becomes visual.\n",
        "\n",
        "Your output of the below cell should look something like:\n",
        "```\n",
        "Number of X samples: 100\n",
        "Number of y samples: 100\n",
        "First 10 X & y samples:\n",
        "X: tensor([0.0000, 0.0100, 0.0200, 0.0300, 0.0400, 0.0500, 0.0600, 0.0700, 0.0800,\n",
        "        0.0900])\n",
        "y: tensor([0.9000, 0.9030, 0.9060, 0.9090, 0.9120, 0.9150, 0.9180, 0.9210, 0.9240,\n",
        "        0.9270])\n",
        "```\n",
        "\n",
        "Of course the numbers in `X` and `y` may be different but ideally they're created using the linear regression formula."
      ],
      "metadata": {
        "id": "g7HUhxCxjeBx"
      }
    },
    {
      "cell_type": "code",
      "source": [
        "# Create the data parameters\n",
        "weight = 0.3\n",
        "bias = 0.9\n",
        "\n",
        "# Create the data\n",
        "X = torch.arange(0, 1, 0.02)\n",
        "y = weight * X + bias\n",
        "\n",
        "# Make X and y using linear regression feature\n",
        "\n",
        "print(X.shape)\n",
        "print(y.shape)\n",
        "print(f\"Number of X samples: {len(X)}\")\n",
        "print(f\"Number of y samples: {len(y)}\")\n",
        "print(f\"First 10 X & y samples:\\nX: {X[:10]}\\ny: {y[:10]}\")"
      ],
      "metadata": {
        "id": "KbDG5MV7jhvE",
        "outputId": "b29f0150-c98e-4652-b568-6abfc73fd0a4",
        "colab": {
          "base_uri": "https://localhost:8080/"
        }
      },
      "execution_count": 6,
      "outputs": [
        {
          "output_type": "stream",
          "name": "stdout",
          "text": [
            "torch.Size([50])\n",
            "torch.Size([50])\n",
            "Number of X samples: 50\n",
            "Number of y samples: 50\n",
            "First 10 X & y samples:\n",
            "X: tensor([0.0000, 0.0200, 0.0400, 0.0600, 0.0800, 0.1000, 0.1200, 0.1400, 0.1600,\n",
            "        0.1800])\n",
            "y: tensor([0.9000, 0.9060, 0.9120, 0.9180, 0.9240, 0.9300, 0.9360, 0.9420, 0.9480,\n",
            "        0.9540])\n"
          ]
        }
      ]
    },
    {
      "cell_type": "code",
      "source": [
        "# Split the data into training and testing\n",
        "train_split = int(0.8 * len(X))\n",
        "X_train, y_train = X[:train_split], y[:train_split]\n",
        "X_test, y_test = X[train_split:], y[train_split:]"
      ],
      "metadata": {
        "id": "GlwtT1djkmLw"
      },
      "execution_count": 7,
      "outputs": []
    },
    {
      "cell_type": "code",
      "source": [
        "# Plot the training and testing data\n",
        "plt.figure(figsize=(10, 7))\n",
        "plt.scatter(X_train, y_train, c=\"b\", s=4, label=\"Training data\")\n",
        "plt.scatter(X_test, y_test, c=\"g\", s=4, label=\"Testing data\")"
      ],
      "metadata": {
        "id": "29iQZFNhlYJ-",
        "outputId": "02fdc1dc-a171-48a4-b596-63da6ea207dd",
        "colab": {
          "base_uri": "https://localhost:8080/",
          "height": 616
        }
      },
      "execution_count": 8,
      "outputs": [
        {
          "output_type": "execute_result",
          "data": {
            "text/plain": [
              "<matplotlib.collections.PathCollection at 0x7f30c8464670>"
            ]
          },
          "metadata": {},
          "execution_count": 8
        },
        {
          "output_type": "display_data",
          "data": {
            "text/plain": [
              "<Figure size 1000x700 with 1 Axes>"
            ],
            "image/png": "[encoded data removed]"
          },
          "metadata": {}
        }
      ]
    },
    {
      "cell_type": "markdown",
      "source": [
        "## 2. Build a PyTorch model by subclassing `nn.Module`.\n",
        "  * Inside should be a randomly initialized `nn.Parameter()` with `requires_grad=True`, one for `weights` and one for `bias`.\n",
        "  * Implement the `forward()` method to compute the linear regression function you used to create the dataset in 1.\n",
        "  * Once you've constructed the model, make an instance of it and check its `state_dict()`.\n",
        "  * **Note:** If you'd like to use `nn.Linear()` instead of `nn.Parameter()` you can."
      ],
      "metadata": {
        "id": "ImZoe3v8jif8"
      }
    },
    {
      "cell_type": "code",
      "source": [
        "# Create PyTorch linear regression model by subclassing nn.Module\n",
        "class LinearRegressionModel(nn.Module):\n",
        "  def __init__(self):\n",
        "    super().__init__()\n",
        "    self.weights = nn.Parameter(torch.randn(1, requires_grad=True, dtype=torch.float))\n",
        "    self.bias = nn.Parameter(torch.randn(1, requires_grad=True, dtype=torch.float))\n",
        "  def forward(self, x: torch.Tensor) -> torch.Tensor:\n",
        "    return self.weights * x + self.bias"
      ],
      "metadata": {
        "id": "qzd__Y5rjtB8"
      },
      "execution_count": 9,
      "outputs": []
    },
    {
      "cell_type": "code",
      "source": [
        "# Instantiate the model and put it to the target device\n",
        "model_0 = LinearRegressionModel()\n",
        "model_0.to(device)"
      ],
      "metadata": {
        "id": "5LdcDnmOmyQ2",
        "outputId": "21a8d1ac-dabc-46e9-eb01-5e49a9b19ec6",
        "colab": {
          "base_uri": "https://localhost:8080/"
        }
      },
      "execution_count": 10,
      "outputs": [
        {
          "output_type": "execute_result",
          "data": {
            "text/plain": [
              "LinearRegressionModel()"
            ]
          },
          "metadata": {},
          "execution_count": 10
        }
      ]
    },
    {
      "cell_type": "markdown",
      "source": [
        "## 3. Create a loss function and optimizer using `nn.L1Loss()` and `torch.optim.SGD(params, lr)` respectively.\n",
        "  * Set the learning rate of the optimizer to be 0.01 and the parameters to optimize should be the model parameters from the model you created in 2.\n",
        "  * Write a training loop to perform the appropriate training steps for 300 epochs.\n",
        "  * The training loop should test the model on the test dataset every 20 epochs."
      ],
      "metadata": {
        "id": "G6nYOrJhjtfu"
      }
    },
    {
      "cell_type": "code",
      "source": [],
      "metadata": {
        "id": "ltvoZ-FWjv1j"
      },
      "execution_count": 12,
      "outputs": []
    },
    {
      "cell_type": "code",
      "source": [
        "# Create the loss function and optimizer\n",
        "loss_fn = nn.L1Loss()\n",
        "optimizer = torch.optim.SGD(params=model_0.parameters(), lr=0.01)\n",
        "\n",
        "# Train model for 300 epochs\n",
        "epochs = 3000\n",
        "\n",
        "# Send data to target device\n",
        "X_train = X_train.to(device)\n",
        "y_train = y_train.to(device)\n",
        "X_test = X_test.to(device)\n",
        "y_test = y_test.to(device)\n",
        "\n",
        "# Training loop\n",
        "for epoch in range(epochs):\n",
        "    model_0.train()\n",
        "\n",
        "    # 1. Forward pass\n",
        "    y_pred = model_0(X_train)\n",
        "\n",
        "    # 2. Calculate loss\n",
        "    loss = loss_fn(y_pred, y_train)\n",
        "\n",
        "    # 3. Zero the gradients\n",
        "    optimizer.zero_grad()\n",
        "\n",
        "    # 4. Backward pass (compute gradients)\n",
        "    loss.backward()\n",
        "\n",
        "    # 5. Step the optimizer (update model parameters)\n",
        "    optimizer.step()\n",
        "\n",
        "    # Test the model every 20 epochs\n",
        "    if epoch % 20 == 0:\n",
        "        model_0.eval()\n",
        "        with torch.inference_mode():\n",
        "            test_pred = model_0(X_test)\n",
        "            test_loss = loss_fn(test_pred, y_test)\n",
        "        print(f\"Epoch: {epoch} | Train loss: {loss.item():.4f} | Test loss: {test_loss.item():.4f}\")\n"
      ],
      "metadata": {
        "id": "xpE83NvNnkdV",
        "outputId": "cc4da71d-8d37-4f5b-92c4-8dd6fc758dac",
        "colab": {
          "base_uri": "https://localhost:8080/"
        }
      },
      "execution_count": 18,
      "outputs": [
        {
          "output_type": "stream",
          "name": "stdout",
          "text": [
            "Epoch: 0 | Train loss: 0.2814 | Test loss: 0.6571\n",
            "Epoch: 20 | Train loss: 0.2745 | Test loss: 0.6412\n",
            "Epoch: 40 | Train loss: 0.2677 | Test loss: 0.6254\n",
            "Epoch: 60 | Train loss: 0.2608 | Test loss: 0.6088\n",
            "Epoch: 80 | Train loss: 0.2539 | Test loss: 0.5930\n",
            "Epoch: 100 | Train loss: 0.2471 | Test loss: 0.5771\n",
            "Epoch: 120 | Train loss: 0.2402 | Test loss: 0.5606\n",
            "Epoch: 140 | Train loss: 0.2333 | Test loss: 0.5447\n",
            "Epoch: 160 | Train loss: 0.2265 | Test loss: 0.5289\n",
            "Epoch: 180 | Train loss: 0.2196 | Test loss: 0.5130\n",
            "Epoch: 200 | Train loss: 0.2127 | Test loss: 0.4965\n",
            "Epoch: 220 | Train loss: 0.2059 | Test loss: 0.4806\n",
            "Epoch: 240 | Train loss: 0.1990 | Test loss: 0.4648\n",
            "Epoch: 260 | Train loss: 0.1921 | Test loss: 0.4482\n",
            "Epoch: 280 | Train loss: 0.1852 | Test loss: 0.4324\n",
            "Epoch: 300 | Train loss: 0.1784 | Test loss: 0.4165\n",
            "Epoch: 320 | Train loss: 0.1715 | Test loss: 0.4000\n",
            "Epoch: 340 | Train loss: 0.1646 | Test loss: 0.3841\n",
            "Epoch: 360 | Train loss: 0.1578 | Test loss: 0.3682\n",
            "Epoch: 380 | Train loss: 0.1509 | Test loss: 0.3524\n",
            "Epoch: 400 | Train loss: 0.1440 | Test loss: 0.3358\n",
            "Epoch: 420 | Train loss: 0.1372 | Test loss: 0.3200\n",
            "Epoch: 440 | Train loss: 0.1303 | Test loss: 0.3041\n",
            "Epoch: 460 | Train loss: 0.1234 | Test loss: 0.2876\n",
            "Epoch: 480 | Train loss: 0.1166 | Test loss: 0.2717\n",
            "Epoch: 500 | Train loss: 0.1097 | Test loss: 0.2559\n",
            "Epoch: 520 | Train loss: 0.1028 | Test loss: 0.2400\n",
            "Epoch: 540 | Train loss: 0.0960 | Test loss: 0.2235\n",
            "Epoch: 560 | Train loss: 0.0891 | Test loss: 0.2076\n",
            "Epoch: 580 | Train loss: 0.0822 | Test loss: 0.1917\n",
            "Epoch: 600 | Train loss: 0.0753 | Test loss: 0.1752\n",
            "Epoch: 620 | Train loss: 0.0685 | Test loss: 0.1593\n",
            "Epoch: 640 | Train loss: 0.0616 | Test loss: 0.1435\n",
            "Epoch: 660 | Train loss: 0.0547 | Test loss: 0.1269\n",
            "Epoch: 680 | Train loss: 0.0479 | Test loss: 0.1111\n",
            "Epoch: 700 | Train loss: 0.0410 | Test loss: 0.0952\n",
            "Epoch: 720 | Train loss: 0.0341 | Test loss: 0.0794\n",
            "Epoch: 740 | Train loss: 0.0273 | Test loss: 0.0628\n",
            "Epoch: 760 | Train loss: 0.0204 | Test loss: 0.0470\n",
            "Epoch: 780 | Train loss: 0.0135 | Test loss: 0.0311\n",
            "Epoch: 800 | Train loss: 0.0067 | Test loss: 0.0146\n",
            "Epoch: 820 | Train loss: 0.0039 | Test loss: 0.0120\n",
            "Epoch: 840 | Train loss: 0.0039 | Test loss: 0.0120\n",
            "Epoch: 860 | Train loss: 0.0039 | Test loss: 0.0120\n",
            "Epoch: 880 | Train loss: 0.0039 | Test loss: 0.0120\n",
            "Epoch: 900 | Train loss: 0.0039 | Test loss: 0.0120\n",
            "Epoch: 920 | Train loss: 0.0039 | Test loss: 0.0120\n",
            "Epoch: 940 | Train loss: 0.0039 | Test loss: 0.0120\n",
            "Epoch: 960 | Train loss: 0.0039 | Test loss: 0.0120\n",
            "Epoch: 980 | Train loss: 0.0039 | Test loss: 0.0120\n",
            "Epoch: 1000 | Train loss: 0.0039 | Test loss: 0.0120\n",
            "Epoch: 1020 | Train loss: 0.0039 | Test loss: 0.0120\n",
            "Epoch: 1040 | Train loss: 0.0039 | Test loss: 0.0120\n",
            "Epoch: 1060 | Train loss: 0.0039 | Test loss: 0.0120\n",
            "Epoch: 1080 | Train loss: 0.0039 | Test loss: 0.0120\n",
            "Epoch: 1100 | Train loss: 0.0039 | Test loss: 0.0120\n",
            "Epoch: 1120 | Train loss: 0.0039 | Test loss: 0.0120\n",
            "Epoch: 1140 | Train loss: 0.0039 | Test loss: 0.0120\n",
            "Epoch: 1160 | Train loss: 0.0039 | Test loss: 0.0120\n",
            "Epoch: 1180 | Train loss: 0.0039 | Test loss: 0.0120\n",
            "Epoch: 1200 | Train loss: 0.0039 | Test loss: 0.0120\n",
            "Epoch: 1220 | Train loss: 0.0039 | Test loss: 0.0120\n",
            "Epoch: 1240 | Train loss: 0.0039 | Test loss: 0.0120\n",
            "Epoch: 1260 | Train loss: 0.0039 | Test loss: 0.0120\n",
            "Epoch: 1280 | Train loss: 0.0039 | Test loss: 0.0120\n",
            "Epoch: 1300 | Train loss: 0.0039 | Test loss: 0.0120\n",
            "Epoch: 1320 | Train loss: 0.0039 | Test loss: 0.0120\n",
            "Epoch: 1340 | Train loss: 0.0039 | Test loss: 0.0120\n",
            "Epoch: 1360 | Train loss: 0.0039 | Test loss: 0.0120\n",
            "Epoch: 1380 | Train loss: 0.0039 | Test loss: 0.0120\n",
            "Epoch: 1400 | Train loss: 0.0039 | Test loss: 0.0120\n",
            "Epoch: 1420 | Train loss: 0.0039 | Test loss: 0.0120\n",
            "Epoch: 1440 | Train loss: 0.0039 | Test loss: 0.0120\n",
            "Epoch: 1460 | Train loss: 0.0039 | Test loss: 0.0120\n",
            "Epoch: 1480 | Train loss: 0.0039 | Test loss: 0.0120\n",
            "Epoch: 1500 | Train loss: 0.0039 | Test loss: 0.0120\n",
            "Epoch: 1520 | Train loss: 0.0039 | Test loss: 0.0120\n",
            "Epoch: 1540 | Train loss: 0.0039 | Test loss: 0.0120\n",
            "Epoch: 1560 | Train loss: 0.0039 | Test loss: 0.0120\n",
            "Epoch: 1580 | Train loss: 0.0039 | Test loss: 0.0120\n",
            "Epoch: 1600 | Train loss: 0.0039 | Test loss: 0.0120\n",
            "Epoch: 1620 | Train loss: 0.0039 | Test loss: 0.0120\n",
            "Epoch: 1640 | Train loss: 0.0039 | Test loss: 0.0120\n",
            "Epoch: 1660 | Train loss: 0.0039 | Test loss: 0.0120\n",
            "Epoch: 1680 | Train loss: 0.0039 | Test loss: 0.0120\n",
            "Epoch: 1700 | Train loss: 0.0039 | Test loss: 0.0120\n",
            "Epoch: 1720 | Train loss: 0.0039 | Test loss: 0.0120\n",
            "Epoch: 1740 | Train loss: 0.0039 | Test loss: 0.0120\n",
            "Epoch: 1760 | Train loss: 0.0039 | Test loss: 0.0120\n",
            "Epoch: 1780 | Train loss: 0.0039 | Test loss: 0.0120\n",
            "Epoch: 1800 | Train loss: 0.0039 | Test loss: 0.0120\n",
            "Epoch: 1820 | Train loss: 0.0039 | Test loss: 0.0120\n",
            "Epoch: 1840 | Train loss: 0.0039 | Test loss: 0.0120\n",
            "Epoch: 1860 | Train loss: 0.0039 | Test loss: 0.0120\n",
            "Epoch: 1880 | Train loss: 0.0039 | Test loss: 0.0120\n",
            "Epoch: 1900 | Train loss: 0.0039 | Test loss: 0.0120\n",
            "Epoch: 1920 | Train loss: 0.0039 | Test loss: 0.0120\n",
            "Epoch: 1940 | Train loss: 0.0039 | Test loss: 0.0120\n",
            "Epoch: 1960 | Train loss: 0.0039 | Test loss: 0.0120\n",
            "Epoch: 1980 | Train loss: 0.0039 | Test loss: 0.0120\n",
            "Epoch: 2000 | Train loss: 0.0039 | Test loss: 0.0120\n",
            "Epoch: 2020 | Train loss: 0.0039 | Test loss: 0.0120\n",
            "Epoch: 2040 | Train loss: 0.0039 | Test loss: 0.0120\n",
            "Epoch: 2060 | Train loss: 0.0039 | Test loss: 0.0120\n",
            "Epoch: 2080 | Train loss: 0.0039 | Test loss: 0.0120\n",
            "Epoch: 2100 | Train loss: 0.0039 | Test loss: 0.0120\n",
            "Epoch: 2120 | Train loss: 0.0039 | Test loss: 0.0120\n",
            "Epoch: 2140 | Train loss: 0.0039 | Test loss: 0.0120\n",
            "Epoch: 2160 | Train loss: 0.0039 | Test loss: 0.0120\n",
            "Epoch: 2180 | Train loss: 0.0039 | Test loss: 0.0120\n",
            "Epoch: 2200 | Train loss: 0.0039 | Test loss: 0.0120\n",
            "Epoch: 2220 | Train loss: 0.0039 | Test loss: 0.0120\n",
            "Epoch: 2240 | Train loss: 0.0039 | Test loss: 0.0120\n",
            "Epoch: 2260 | Train loss: 0.0039 | Test loss: 0.0120\n",
            "Epoch: 2280 | Train loss: 0.0039 | Test loss: 0.0120\n",
            "Epoch: 2300 | Train loss: 0.0039 | Test loss: 0.0120\n",
            "Epoch: 2320 | Train loss: 0.0039 | Test loss: 0.0120\n",
            "Epoch: 2340 | Train loss: 0.0039 | Test loss: 0.0120\n",
            "Epoch: 2360 | Train loss: 0.0039 | Test loss: 0.0120\n",
            "Epoch: 2380 | Train loss: 0.0039 | Test loss: 0.0120\n",
            "Epoch: 2400 | Train loss: 0.0039 | Test loss: 0.0120\n",
            "Epoch: 2420 | Train loss: 0.0039 | Test loss: 0.0120\n",
            "Epoch: 2440 | Train loss: 0.0039 | Test loss: 0.0120\n",
            "Epoch: 2460 | Train loss: 0.0039 | Test loss: 0.0120\n",
            "Epoch: 2480 | Train loss: 0.0039 | Test loss: 0.0120\n",
            "Epoch: 2500 | Train loss: 0.0039 | Test loss: 0.0120\n",
            "Epoch: 2520 | Train loss: 0.0039 | Test loss: 0.0120\n",
            "Epoch: 2540 | Train loss: 0.0039 | Test loss: 0.0120\n",
            "Epoch: 2560 | Train loss: 0.0039 | Test loss: 0.0120\n",
            "Epoch: 2580 | Train loss: 0.0039 | Test loss: 0.0120\n",
            "Epoch: 2600 | Train loss: 0.0039 | Test loss: 0.0120\n",
            "Epoch: 2620 | Train loss: 0.0039 | Test loss: 0.0120\n",
            "Epoch: 2640 | Train loss: 0.0039 | Test loss: 0.0120\n",
            "Epoch: 2660 | Train loss: 0.0039 | Test loss: 0.0120\n",
            "Epoch: 2680 | Train loss: 0.0039 | Test loss: 0.0120\n",
            "Epoch: 2700 | Train loss: 0.0039 | Test loss: 0.0120\n",
            "Epoch: 2720 | Train loss: 0.0039 | Test loss: 0.0120\n",
            "Epoch: 2740 | Train loss: 0.0039 | Test loss: 0.0120\n",
            "Epoch: 2760 | Train loss: 0.0039 | Test loss: 0.0120\n",
            "Epoch: 2780 | Train loss: 0.0039 | Test loss: 0.0120\n",
            "Epoch: 2800 | Train loss: 0.0039 | Test loss: 0.0120\n",
            "Epoch: 2820 | Train loss: 0.0039 | Test loss: 0.0120\n",
            "Epoch: 2840 | Train loss: 0.0039 | Test loss: 0.0120\n",
            "Epoch: 2860 | Train loss: 0.0039 | Test loss: 0.0120\n",
            "Epoch: 2880 | Train loss: 0.0039 | Test loss: 0.0120\n",
            "Epoch: 2900 | Train loss: 0.0039 | Test loss: 0.0120\n",
            "Epoch: 2920 | Train loss: 0.0039 | Test loss: 0.0120\n",
            "Epoch: 2940 | Train loss: 0.0039 | Test loss: 0.0120\n",
            "Epoch: 2960 | Train loss: 0.0039 | Test loss: 0.0120\n",
            "Epoch: 2980 | Train loss: 0.0039 | Test loss: 0.0120\n"
          ]
        }
      ]
    },
    {
      "cell_type": "markdown",
      "source": [
        "## 4. Make predictions with the trained model on the test data.\n",
        "  * Visualize these predictions against the original training and testing data (**note:** you may need to make sure the predictions are *not* on the GPU if you want to use non-CUDA-enabled libraries such as matplotlib to plot)."
      ],
      "metadata": {
        "id": "x4j4TM18jwa7"
      }
    },
    {
      "cell_type": "code",
      "source": [
        "# Make predictions with the model\n",
        "# Make predictions with the model\n",
        "model_0.eval()\n",
        "with torch.inference_mode():\n",
        "    y_preds = model_0(X_test)\n",
        "\n",
        "# Plot the predictions\n",
        "plt.figure(figsize=(10, 7))\n",
        "plt.scatter(X_train.cpu(), y_train.cpu(), c=\"b\", s=4, label=\"Training data\")\n",
        "plt.scatter(X_test.cpu(), y_test.cpu(), c=\"g\", s=4, label=\"Testing data\")\n",
        "plt.scatter(X_test.cpu(), y_preds.cpu(), c=\"r\", s=4, label=\"Predictions\")\n",
        "plt.title(\"Model Predictions vs. Original Data\")\n",
        "plt.xlabel(\"X\")\n",
        "plt.ylabel(\"y\")\n",
        "plt.legend()\n",
        "plt.show()\n"
      ],
      "metadata": {
        "id": "bbMPK5Qjjyx_",
        "outputId": "79e2765a-be85-4030-aebc-a79ff2e5c55b",
        "colab": {
          "base_uri": "https://localhost:8080/",
          "height": 641
        }
      },
      "execution_count": 19,
      "outputs": [
        {
          "output_type": "display_data",
          "data": {
            "text/plain": [
              "<Figure size 1000x700 with 1 Axes>"
            ],
            "image/png": "[encoded data removed]"
          },
          "metadata": {}
        }
      ]
    },
    {
      "cell_type": "code",
      "source": [
        "# Plot the predictions (these may need to be on a specific device)\n"
      ],
      "metadata": {
        "id": "K3BdmQaDpFo8"
      },
      "execution_count": null,
      "outputs": []
    },
    {
      "cell_type": "markdown",
      "source": [
        "## 5. Save your trained model's `state_dict()` to file.\n",
        "  * Create a new instance of your model class you made in 2. and load in the `state_dict()` you just saved to it.\n",
        "  * Perform predictions on your test data with the loaded model and confirm they match the original model predictions from 4."
      ],
      "metadata": {
        "id": "s2OnlMWKjzX8"
      }
    },
    {
      "cell_type": "code",
      "source": [
        "from pathlib import Path\n",
        "\n",
        "\n",
        "from pathlib import Path\n",
        "\n",
        "# 1. Create models directory\n",
        "models_path = Path(\"models\")\n",
        "models_path.mkdir(parents=True, exist_ok=True)\n",
        "\n",
        "# 2. Create model save path\n",
        "model_save_path = models_path / \"linear_regression_model.pth\"\n",
        "\n",
        "# 3. Save the model state dict\n",
        "torch.save(model_0.state_dict(), model_save_path)\n",
        "\n",
        "# Create new instance of model and load saved state dict\n",
        "loaded_model = LinearRegressionModel()\n",
        "loaded_model.load_state_dict(torch.load(model_save_path))\n",
        "loaded_model.to(device)\n",
        "\n",
        "# Make predictions with loaded model and compare them to the previous\n",
        "loaded_model.eval()\n",
        "with torch.inference_mode():\n",
        "    loaded_preds = loaded_model(X_test)\n",
        "    print(\"Predictions match after loading:\", torch.allclose(y_preds, loaded_preds))\n"
      ],
      "metadata": {
        "id": "hgxhgD14qr-i",
        "outputId": "f319bad4-1a5c-4759-c9b7-d4f6e573778d",
        "colab": {
          "base_uri": "https://localhost:8080/"
        }
      },
      "execution_count": 20,
      "outputs": [
        {
          "output_type": "stream",
          "name": "stdout",
          "text": [
            "Predictions match after loading: True\n"
          ]
        },
        {
          "output_type": "stream",
          "name": "stderr",
          "text": [
            "<ipython-input-20-57092627593b>:18: FutureWarning: You are using `torch.load` with `weights_only=False` (the current default value), which uses the default pickle module implicitly. It is possible to construct malicious pickle data which will execute arbitrary code during unpickling (See https://github.com/pytorch/pytorch/blob/main/SECURITY.md#untrusted-models for more details). In a future release, the default value for `weights_only` will be flipped to `True`. This limits the functions that could be executed during unpickling. Arbitrary objects will no longer be allowed to be loaded via this mode unless they are explicitly allowlisted by the user via `torch.serialization.add_safe_globals`. We recommend you start setting `weights_only=True` for any use case where you don't have full control of the loaded file. Please open an issue on GitHub for any issues related to this experimental feature.\n",
            "  loaded_model.load_state_dict(torch.load(model_save_path))\n"
          ]
        }
      ]
    },
    {
      "cell_type": "code",
      "source": [
        "# Create new instance of model and load saved state dict (make sure to put it on the target device)\n"
      ],
      "metadata": {
        "id": "P9vTgiLRrJ7T"
      },
      "execution_count": null,
      "outputs": []
    },
    {
      "cell_type": "code",
      "source": [
        "# Make predictions with loaded model and compare them to the previous\n"
      ],
      "metadata": {
        "id": "8UGX3VebrVtI"
      },
      "execution_count": null,
      "outputs": []
    }
  ]
}