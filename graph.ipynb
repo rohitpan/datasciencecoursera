{
  "nbformat": 4,
  "nbformat_minor": 0,
  "metadata": {
    "colab": {
      "provenance": [],
      "authorship_tag": "ABX9TyNs/idsd8+D4XthVxpNQAOE",
      "include_colab_link": true
    },
    "kernelspec": {
      "name": "python3",
      "display_name": "Python 3"
    },
    "language_info": {
      "name": "python"
    }
  },
  "cells": [
    {
      "cell_type": "markdown",
      "metadata": {
        "id": "view-in-github",
        "colab_type": "text"
      },
      "source": [
        "<a href=\"https://colab.research.google.com/github/rohitpan/datasciencecoursera/blob/master/graph.ipynb\" target=\"_parent\"><img src=\"https://colab.research.google.com/assets/colab-badge.svg\" alt=\"Open In Colab\"/></a>"
      ]
    },
    {
      "cell_type": "code",
      "execution_count": 1,
      "metadata": {
        "colab": {
          "base_uri": "https://localhost:8080/"
        },
        "id": "CU4ExH58A_1F",
        "outputId": "b05f34da-a4f7-445c-98a1-9488bcb464d9"
      },
      "outputs": [
        {
          "output_type": "stream",
          "name": "stdout",
          "text": [
            "Shortest paths from node A: {'A': 0, 'B': 1, 'C': 3, 'D': 4}\n"
          ]
        }
      ],
      "source": [
        "# Dijkstra Algorithm\n",
        "\n",
        "import heapq\n",
        "\n",
        "def dijkstra(graph, start):\n",
        "    # Priority queue to store (distance, node)\n",
        "    priority_queue = [(0, start)]\n",
        "    # Dictionary to store the shortest distance to each node\n",
        "    distances = {node: float('infinity') for node in graph}\n",
        "    # Distance to the start node is 0\n",
        "    distances[start] = 0\n",
        "    # Set to track visited nodes\n",
        "    visited = set()\n",
        "\n",
        "    while priority_queue:\n",
        "        current_distance, current_node = heapq.heappop(priority_queue)\n",
        "\n",
        "        # If the node has already been visited, skip it\n",
        "        if current_node in visited:\n",
        "            continue\n",
        "\n",
        "        # Mark the node as visited\n",
        "        visited.add(current_node)\n",
        "\n",
        "        # Explore neighbors\n",
        "        for neighbor, weight in graph[current_node]:\n",
        "            distance = current_distance + weight\n",
        "\n",
        "            # If a shorter path to the neighbor is found\n",
        "            if distance < distances[neighbor]:\n",
        "                distances[neighbor] = distance\n",
        "                heapq.heappush(priority_queue, (distance, neighbor))\n",
        "\n",
        "    return distances\n",
        "\n",
        "# Example usage\n",
        "graph = {\n",
        "    'A': [('B', 1), ('C', 4)],\n",
        "    'B': [('A', 1), ('C', 2), ('D', 5)],\n",
        "    'C': [('A', 4), ('B', 2), ('D', 1)],\n",
        "    'D': [('B', 5), ('C', 1)]\n",
        "}\n",
        "\n",
        "start_node = 'A'\n",
        "shortest_paths = dijkstra(graph, start_node)\n",
        "print(f\"Shortest paths from node {start_node}: {shortest_paths}\")\n"
      ]
    },
    {
      "cell_type": "code",
      "source": [
        "#Prims Algo\n",
        "# Minimum Spanning Tree\n",
        "\n",
        "import heapq\n",
        "\n",
        "def prim(graph, start):\n",
        "    mst = []\n",
        "    visited = set()\n",
        "    priority_queue = [(0, start, None)]  # (weight, vertex, from_vertex)\n",
        "\n",
        "    while priority_queue:\n",
        "        weight, current_vertex, from_vertex = heapq.heappop(priority_queue)\n",
        "\n",
        "        if current_vertex not in visited:\n",
        "            visited.add(current_vertex)\n",
        "            if from_vertex is not None:\n",
        "                mst.append((from_vertex, current_vertex, weight))\n",
        "\n",
        "            for neighbor, edge_weight in graph[current_vertex]:\n",
        "                if neighbor not in visited:\n",
        "                    heapq.heappush(priority_queue, (edge_weight, neighbor, current_vertex))\n",
        "\n",
        "    return mst\n",
        "\n",
        "# Example usage\n",
        "graph = {\n",
        "    'A': [('B', 1), ('C', 4)],\n",
        "    'B': [('A', 1), ('C', 2), ('D', 5)],\n",
        "    'C': [('A', 4), ('B', 2), ('D', 1)],\n",
        "    'D': [('B', 5), ('C', 1)]\n",
        "}\n",
        "\n",
        "start_vertex = 'A'\n",
        "mst = prim(graph, start_vertex)\n",
        "print(\"Edges in the Minimum Spanning Tree:\")\n",
        "for edge in mst:\n",
        "    print(edge)\n"
      ],
      "metadata": {
        "colab": {
          "base_uri": "https://localhost:8080/"
        },
        "id": "TtElYQr5UNuZ",
        "outputId": "9f168b2d-5f50-48d4-bb0c-0676561c2ba8"
      },
      "execution_count": 2,
      "outputs": [
        {
          "output_type": "stream",
          "name": "stdout",
          "text": [
            "Edges in the Minimum Spanning Tree:\n",
            "('A', 'B', 1)\n",
            "('B', 'C', 2)\n",
            "('C', 'D', 1)\n"
          ]
        }
      ]
    },
    {
      "cell_type": "code",
      "source": [
        "#MST using Disjoint Set\n",
        "#Kruskal algo\n",
        "\n",
        "class DisjointSet:\n",
        "    def __init__(self, vertices):\n",
        "        self.parent = {vertex: vertex for vertex in vertices}\n",
        "        self.size = {vertex: 1 for vertex in vertices}\n",
        "\n",
        "    def find(self, vertex):\n",
        "        if self.parent[vertex] != vertex:\n",
        "            self.parent[vertex] = self.find(self.parent[vertex])\n",
        "        return self.parent[vertex]\n",
        "\n",
        "    def union(self, root1, root2):\n",
        "        if self.size[root1] < self.size[root2]:\n",
        "            self.parent[root1] = root2\n",
        "            self.size[root2] += self.size[root1]\n",
        "        else:\n",
        "            self.parent[root2] = root1\n",
        "            self.size[root1] += self.size[root2]\n",
        "\n",
        "def kruskal(graph):\n",
        "    vertices = set()\n",
        "    edges = []\n",
        "\n",
        "    for vertex, neighbors in graph.items():\n",
        "        vertices.add(vertex)\n",
        "        for neighbor, weight in neighbors:\n",
        "            edges.append((weight, vertex, neighbor))\n",
        "            vertices.add(neighbor)\n",
        "\n",
        "    # Sort edges by their weight\n",
        "    edges.sort()\n",
        "\n",
        "    # Initialize disjoint set\n",
        "    disjoint_set = DisjointSet(vertices)\n",
        "\n",
        "    mst = []\n",
        "    mst_weight = 0\n",
        "\n",
        "    for weight, vertex1, vertex2 in edges:\n",
        "        root1 = disjoint_set.find(vertex1)\n",
        "        root2 = disjoint_set.find(vertex2)\n",
        "\n",
        "        if root1 != root2:\n",
        "            mst.append((vertex1, vertex2, weight))\n",
        "            mst_weight += weight\n",
        "            disjoint_set.union(root1, root2)\n",
        "\n",
        "    return mst, mst_weight\n",
        "\n",
        "# Example usage\n",
        "graph = {\n",
        "    'A': [('B', 1), ('C', 4)],\n",
        "    'B': [('A', 1), ('C', 2), ('D', 5)],\n",
        "    'C': [('A', 4), ('B', 2), ('D', 1)],\n",
        "    'D': [('B', 5), ('C', 1)]\n",
        "}\n",
        "\n",
        "mst, mst_weight = kruskal(graph)\n",
        "print(\"Edges in the Minimum Spanning Tree:\")\n",
        "for edge in mst:\n",
        "    print(edge)\n",
        "print(f\"Total weight of MST: {mst_weight}\")\n"
      ],
      "metadata": {
        "colab": {
          "base_uri": "https://localhost:8080/"
        },
        "id": "Fnegnh0Vgfyu",
        "outputId": "036ea24c-6d5b-4604-9b81-82ad8fbf06df"
      },
      "execution_count": 3,
      "outputs": [
        {
          "output_type": "stream",
          "name": "stdout",
          "text": [
            "Edges in the Minimum Spanning Tree:\n",
            "('A', 'B', 1)\n",
            "('C', 'D', 1)\n",
            "('B', 'C', 2)\n",
            "Total weight of MST: 4\n"
          ]
        }
      ]
    },
    {
      "cell_type": "code",
      "source": [],
      "metadata": {
        "id": "N-nKh9_ugog6"
      },
      "execution_count": null,
      "outputs": []
    }
  ]
}