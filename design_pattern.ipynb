{
  "nbformat": 4,
  "nbformat_minor": 0,
  "metadata": {
    "colab": {
      "provenance": [],
      "authorship_tag": "ABX9TyP3q/RMZedBhiRl/t4BGey8",
      "include_colab_link": true
    },
    "kernelspec": {
      "name": "python3",
      "display_name": "Python 3"
    },
    "language_info": {
      "name": "python"
    }
  },
  "cells": [
    {
      "cell_type": "markdown",
      "metadata": {
        "id": "view-in-github",
        "colab_type": "text"
      },
      "source": [
        "<a href=\"https://colab.research.google.com/github/rohitpan/datasciencecoursera/blob/master/design_pattern.ipynb\" target=\"_parent\"><img src=\"https://colab.research.google.com/assets/colab-badge.svg\" alt=\"Open In Colab\"/></a>"
      ]
    },
    {
      "cell_type": "code",
      "execution_count": 2,
      "metadata": {
        "colab": {
          "base_uri": "https://localhost:8080/"
        },
        "id": "tCBEaJ4FRuEs",
        "outputId": "cafa65ee-1d08-4f86-c5a5-6eab920eabef"
      },
      "outputs": [
        {
          "output_type": "stream",
          "name": "stdout",
          "text": [
            "Using HorseFactory:\n",
            "The animal says: Neigh!\n"
          ]
        }
      ],
      "source": [
        "# Factory pattern\n",
        "\n",
        "from abc import ABC, abstractmethod\n",
        "\n",
        "# Abstract Product\n",
        "class Animal(ABC):\n",
        "    @abstractmethod\n",
        "    def speak(self):\n",
        "        pass\n",
        "\n",
        "# Concrete Product - Dog\n",
        "class Dog(Animal):\n",
        "    def speak(self):\n",
        "        return \"Woof!\"\n",
        "\n",
        "# Concrete Product - Cat\n",
        "class Cat(Animal):\n",
        "    def speak(self):\n",
        "        return \"Meow!\"\n",
        "\n",
        "# Concrete Product - Horse\n",
        "class Horse(Animal):\n",
        "    def speak(self):\n",
        "        return \"Neigh!\"\n",
        "\n",
        "# Creator\n",
        "class AnimalFactory(ABC):\n",
        "    @abstractmethod\n",
        "    def create_animal(self) -> Animal:\n",
        "        pass\n",
        "\n",
        "# Concrete Creator - Dog Factory\n",
        "class DogFactory(AnimalFactory):\n",
        "    def create_animal(self) -> Dog:\n",
        "        return Dog()\n",
        "\n",
        "# Concrete Creator - Cat Factory\n",
        "class CatFactory(AnimalFactory):\n",
        "    def create_animal(self) -> Cat:\n",
        "        return Cat()\n",
        "\n",
        "# Concrete Creator - Horse Factory\n",
        "class HorseFactory(AnimalFactory):\n",
        "    def create_animal(self) -> Horse:\n",
        "        return Horse()\n",
        "\n",
        "# Client code\n",
        "def client_code(factory: AnimalFactory):\n",
        "    animal = factory.create_animal()\n",
        "    print(f\"The animal says: {animal.speak()}\")\n",
        "\n",
        "if __name__ == \"__main__\":\n",
        "    dog_factory = DogFactory()\n",
        "    cat_factory = CatFactory()\n",
        "    horse_factory = HorseFactory()\n",
        "\n",
        "    # print(\"Using DogFactory:\")\n",
        "    # client_code(dog_factory)\n",
        "\n",
        "    # print(\"Using CatFactory:\")\n",
        "    # client_code(cat_factory)\n",
        "\n",
        "    print(\"Using HorseFactory:\")\n",
        "    client_code(horse_factory)\n"
      ]
    },
    {
      "cell_type": "code",
      "source": [
        "# Singleton Pattern\n",
        "class SingletonMeta(type):\n",
        "    \"\"\"\n",
        "    This is a thread-safe implementation of Singleton.\n",
        "    \"\"\"\n",
        "    _instances = {}\n",
        "\n",
        "    def __call__(cls, *args, **kwargs):\n",
        "        if cls not in cls._instances:\n",
        "            instance = super().__call__(*args, **kwargs)\n",
        "            cls._instances[cls] = instance\n",
        "        return cls._instances[cls]\n",
        "\n",
        "class Singleton(metaclass=SingletonMeta):\n",
        "    def __init__(self, value):\n",
        "        self.value = value\n",
        "\n",
        "    def __str__(self):\n",
        "        return f\"Singleton with value: {self.value}\"\n",
        "\n",
        "# Usage\n",
        "if __name__ == \"__main__\":\n",
        "    s1 = Singleton(\"First Instance\")\n",
        "    s2 = Singleton(\"Second Instance\")\n",
        "\n",
        "    print(s1)  # Output: Singleton with value: First Instance\n",
        "    print(s2)  # Output: Singleton with value: First Instance\n",
        "    print(s1 is s2)  # Output: True\n",
        "\n",
        "\n"
      ],
      "metadata": {
        "colab": {
          "base_uri": "https://localhost:8080/"
        },
        "id": "Nfn_Ye7lSyj_",
        "outputId": "4378d5c6-d6af-4418-a9ea-0a53f22c2742"
      },
      "execution_count": 3,
      "outputs": [
        {
          "output_type": "stream",
          "name": "stdout",
          "text": [
            "Singleton with value: First Instance\n",
            "Singleton with value: First Instance\n",
            "True\n"
          ]
        }
      ]
    },
    {
      "cell_type": "code",
      "source": [
        "#builder pattern\n",
        "class House:\n",
        "    def __init__(self):\n",
        "        self._walls = None\n",
        "        self._doors = None\n",
        "        self._windows = None\n",
        "        self._roof = None\n",
        "\n",
        "    def __str__(self):\n",
        "        return f\"House with {self._walls} walls, {self._doors} doors, {self._windows} windows, and a {self._roof} roof.\"\n",
        "\n",
        "class HouseBuilder:\n",
        "    def __init__(self):\n",
        "        self.reset()\n",
        "\n",
        "    def reset(self):\n",
        "        self.house = House()\n",
        "\n",
        "    def build_walls(self, walls):\n",
        "        self.house._walls = walls\n",
        "        return self\n",
        "\n",
        "    def build_doors(self, doors):\n",
        "        self.house._doors = doors\n",
        "        return self\n",
        "\n",
        "    def build_windows(self, windows):\n",
        "        self.house._windows = windows\n",
        "        return self\n",
        "\n",
        "    def build_roof(self, roof):\n",
        "        self.house._roof = roof\n",
        "        return self\n",
        "\n",
        "    def build(self):\n",
        "        house = self.house\n",
        "        self.reset()  # Reset builder for next construction\n",
        "        return house\n",
        "\n",
        "# Director\n",
        "class HouseDirector:\n",
        "    def __init__(self, builder):\n",
        "        self._builder = builder\n",
        "\n",
        "    def construct_minimal_house(self):\n",
        "        self._builder.build_walls(\"brick\").build_roof(\"tile\")\n",
        "        return self._builder.build()\n",
        "\n",
        "    def construct_full_house(self):\n",
        "        self._builder.build_walls(\"brick\").build_doors(4).build_windows(6).build_roof(\"tile\")\n",
        "        return self._builder.build()\n",
        "\n",
        "# Client code\n",
        "if __name__ == \"__main__\":\n",
        "    builder = HouseBuilder()\n",
        "    director = HouseDirector(builder)\n",
        "\n",
        "    full_house = director.construct_full_house()\n",
        "    print(full_house)  # Output: House with brick walls, 4 doors, 6 windows, and a tile roof.\n",
        "\n",
        "    minimal_house = director.construct_minimal_house()\n",
        "    print(minimal_house)  # Output: House with brick walls, None doors, None windows, and a tile roof.\n",
        "\n",
        ""
      ],
      "metadata": {
        "colab": {
          "base_uri": "https://localhost:8080/"
        },
        "id": "OHkKy2E-WVuY",
        "outputId": "1bd16499-7ee8-4552-cc92-a5edd56807bd"
      },
      "execution_count": 5,
      "outputs": [
        {
          "output_type": "stream",
          "name": "stdout",
          "text": [
            "House with brick walls, 4 doors, 6 windows, and a tile roof.\n",
            "House with brick walls, None doors, None windows, and a tile roof.\n"
          ]
        }
      ]
    },
    {
      "cell_type": "code",
      "source": [
        "# Adapter pattern example\n",
        "# Target Interface\n",
        "class Printer:\n",
        "    def print(self, text):\n",
        "        raise NotImplementedError(\"Subclasses must implement this method.\")\n",
        "\n",
        "# Legacy Class with incompatible interface\n",
        "class OldPrinter:\n",
        "    def print_old(self, text):\n",
        "        print(f\"OldPrinter printing: {text}\")\n",
        "\n",
        "# Adapter Class\n",
        "class OldPrinterAdapter(Printer):\n",
        "    def __init__(self, old_printer):\n",
        "        self._old_printer = old_printer\n",
        "\n",
        "    def print(self, text):\n",
        "        # Adapting the interface\n",
        "        self._old_printer.print_old(text)\n",
        "\n",
        "# Client code\n",
        "if __name__ == \"__main__\":\n",
        "    # Instantiate legacy printer\n",
        "    old_printer = OldPrinter()\n",
        "\n",
        "    # Adapter makes the old printer compatible with the new interface\n",
        "    adapter = OldPrinterAdapter(old_printer)\n",
        "\n",
        "    # Use the adapter as if it were a Printer\n",
        "    adapter.print(\"Hello, World!\")\n"
      ],
      "metadata": {
        "colab": {
          "base_uri": "https://localhost:8080/"
        },
        "id": "B6rvmW7SeoUP",
        "outputId": "e59e9dda-d0f9-42a6-b5d2-263482741503"
      },
      "execution_count": 6,
      "outputs": [
        {
          "output_type": "stream",
          "name": "stdout",
          "text": [
            "OldPrinter printing: Hello, World!\n"
          ]
        }
      ]
    },
    {
      "cell_type": "code",
      "source": [
        "#Prototype pattern example\n",
        "import copy\n",
        "\n",
        "class Prototype:\n",
        "    def __init__(self):\n",
        "        self._objects = {}\n",
        "\n",
        "    def register_object(self, name, obj):\n",
        "        self._objects[name] = obj\n",
        "\n",
        "    def unregister_object(self, name):\n",
        "        del self._objects[name]\n",
        "\n",
        "    def clone(self, name, **attrs):\n",
        "        obj = copy.deepcopy(self._objects.get(name))\n",
        "        obj.__dict__.update(attrs)\n",
        "        return obj\n",
        "\n",
        "class Car:\n",
        "    def __init__(self, model, color):\n",
        "        self.model = model\n",
        "        self.color = color\n",
        "\n",
        "    def __str__(self):\n",
        "        return f\"Car(model={self.model}, color={self.color})\"\n",
        "\n",
        "if __name__ == \"__main__\":\n",
        "    prototype = Prototype()\n",
        "\n",
        "    # Create and register a Car object\n",
        "    car1 = Car(\"Sedan\", \"Blue\")\n",
        "    prototype.register_object(\"Sedan\", car1)\n",
        "\n",
        "    # Clone the registered Car object\n",
        "    car2 = prototype.clone(\"Sedan\", color=\"Red\")\n",
        "\n",
        "    print(car1)  # Output: Car(model=Sedan, color=Blue)\n",
        "    print(car2)  # Output: Car(model=Sedan, color=Red)\n"
      ],
      "metadata": {
        "id": "xsG6NmyzmjBb"
      },
      "execution_count": null,
      "outputs": []
    },
    {
      "cell_type": "code",
      "source": [
        "# Decorator pattern example\n",
        "# Base Component\n",
        "class Coffee:\n",
        "    def cost(self):\n",
        "        return 5  # Base cost of coffee\n",
        "\n",
        "# Base Decorator\n",
        "class CoffeeDecorator:\n",
        "    def __init__(self, coffee):\n",
        "        self._coffee = coffee\n",
        "\n",
        "    def cost(self):\n",
        "        return self._coffee.cost()\n",
        "\n",
        "# Concrete Decorators\n",
        "class MilkDecorator(CoffeeDecorator):\n",
        "    def cost(self):\n",
        "        return self._coffee.cost() + 2  # Milk costs an additional 2\n",
        "\n",
        "class SugarDecorator(CoffeeDecorator):\n",
        "    def cost(self):\n",
        "        return self._coffee.cost() + 0.5  # Sugar costs an additional 0.5\n",
        "\n",
        "# Client code\n",
        "if __name__ == \"__main__\":\n",
        "    # Create a simple coffee\n",
        "    coffee = Coffee()\n",
        "    print(\"Cost of plain coffee:\", coffee.cost())  # Output: Cost of plain coffee: 5\n",
        "\n",
        "    # Add milk to the coffee\n",
        "    milk_coffee = MilkDecorator(coffee)\n",
        "    print(\"Cost of coffee with milk:\", milk_coffee.cost())  # Output: Cost of coffee with milk: 7\n",
        "\n",
        "    # Add sugar to the coffee with milk\n",
        "    sugar_milk_coffee = SugarDecorator(milk_coffee)\n",
        "    print(\"Cost of coffee with milk and sugar:\", sugar_milk_coffee.cost())  # Output: Cost of coffee with milk and sugar: 7.5\n"
      ],
      "metadata": {
        "colab": {
          "base_uri": "https://localhost:8080/"
        },
        "id": "npmaq6wnn_2l",
        "outputId": "7be80820-23a8-40ce-fdaf-140c4cede6a2"
      },
      "execution_count": 7,
      "outputs": [
        {
          "output_type": "stream",
          "name": "stdout",
          "text": [
            "Cost of plain coffee: 5\n",
            "Cost of coffee with milk: 7\n",
            "Cost of coffee with milk and sugar: 7.5\n"
          ]
        }
      ]
    },
    {
      "cell_type": "code",
      "source": [
        "# Strategy Pattern\n",
        "\n",
        "# Strategy Interface\n",
        "class TextFormatter:\n",
        "    def format(self, text):\n",
        "        raise NotImplementedError(\"Subclasses must implement this method.\")\n",
        "\n",
        "# Concrete Strategies\n",
        "class SwapCaseFormatter(TextFormatter):\n",
        "    def format(self, text):\n",
        "        return text.swapcase()\n",
        "\n",
        "class LowerCaseFormatter(TextFormatter):\n",
        "    def format(self, text):\n",
        "        return text.lower()\n",
        "\n",
        "class TitleCaseFormatter(TextFormatter):\n",
        "    def format(self, text):\n",
        "        return text.title()\n",
        "\n",
        "# Context\n",
        "class TextEditor:\n",
        "    def __init__(self, formatter):\n",
        "        self._formatter = formatter\n",
        "\n",
        "    def set_formatter(self, formatter):\n",
        "        self._formatter = formatter\n",
        "\n",
        "    def publish_text(self, text):\n",
        "        formatted_text = self._formatter.format(text)\n",
        "        print(formatted_text)\n",
        "\n",
        "# Client code\n",
        "if __name__ == \"__main__\":\n",
        "    # Create concrete strategies\n",
        "    swap_case_formatter = SwapCaseFormatter()\n",
        "    lower_case_formatter = LowerCaseFormatter()\n",
        "    title_case_formatter = TitleCaseFormatter()\n",
        "\n",
        "    # Create context with a specific strategy\n",
        "    editor = TextEditor(swap_case_formatter)\n",
        "    editor.publish_text(\"Hello, Strategy Pattern!\")  # Output: HELLO, STRATEGY PATTERN!\n",
        "\n",
        "    # Change strategy at runtime\n",
        "    editor.set_formatter(lower_case_formatter)\n",
        "    editor.publish_text(\"Hello, Strategy Pattern!\")  # Output: hello, strategy pattern!\n",
        "\n",
        "    # Change strategy at runtime\n",
        "    editor.set_formatter(title_case_formatter)\n",
        "    editor.publish_text(\"Hello, Strategy Pattern!\")  # Output: Hello, Strategy Pattern!\n"
      ],
      "metadata": {
        "colab": {
          "base_uri": "https://localhost:8080/"
        },
        "id": "Z8W7n7LWoQje",
        "outputId": "7290f7ac-9ef0-4861-ce04-92d58b0d1950"
      },
      "execution_count": 9,
      "outputs": [
        {
          "output_type": "stream",
          "name": "stdout",
          "text": [
            "hELLO, sTRATEGY pATTERN!\n",
            "hello, strategy pattern!\n",
            "Hello, Strategy Pattern!\n"
          ]
        }
      ]
    },
    {
      "cell_type": "code",
      "source": [
        "# Observer Pattern\n",
        "\n",
        "# Subject Interface\n",
        "class Subject:\n",
        "    def __init__(self):\n",
        "        self._observers = []\n",
        "\n",
        "    def attach(self, observer):\n",
        "        if observer not in self._observers:\n",
        "            self._observers.append(observer)\n",
        "\n",
        "    def detach(self, observer):\n",
        "        try:\n",
        "            self._observers.remove(observer)\n",
        "        except ValueError:\n",
        "            pass\n",
        "\n",
        "    def notify(self, *args, **kwargs):\n",
        "        for observer in self._observers:\n",
        "            observer.update(*args, **kwargs)\n",
        "\n",
        "# Observer Interface\n",
        "class Observer:\n",
        "    def update(self, *args, **kwargs):\n",
        "        raise NotImplementedError(\"Subclass must implement this method\")\n",
        "\n",
        "# Concrete Subject\n",
        "class WeatherStation(Subject):\n",
        "    def __init__(self):\n",
        "        super().__init__()\n",
        "        self._temperature = None\n",
        "\n",
        "    def set_temperature(self, temp):\n",
        "        self._temperature = temp\n",
        "        self.notify(temp=temp)\n",
        "\n",
        "# Concrete Observers\n",
        "class PhoneDisplay(Observer):\n",
        "    def update(self, *args, **kwargs):\n",
        "        print(f\"Phone Display: The temperature is now {kwargs['temp']}°C\")\n",
        "\n",
        "class LaptopDisplay(Observer):\n",
        "    def update(self, *args, **kwargs):\n",
        "        print(f\"Laptop Display: The temperature is now {kwargs['temp']}°C\")\n",
        "\n",
        "# Client code\n",
        "if __name__ == \"__main__\":\n",
        "    # Create the weather station (subject)\n",
        "    weather_station = WeatherStation()\n",
        "\n",
        "    # Create the observers\n",
        "    phone_display = PhoneDisplay()\n",
        "    laptop_display = LaptopDisplay()\n",
        "\n",
        "    # Attach observers to the subject\n",
        "    weather_station.attach(phone_display)\n",
        "    weather_station.attach(laptop_display)\n",
        "\n",
        "    # Change the state of the subject\n",
        "    weather_station.set_temperature(25)  # Output: Phone Display: The temperature is now 25°C\n",
        "                                         #         Laptop Display: The temperature is now 25°C\n",
        "\n",
        "    # Detach an observer and change the state again\n",
        "    weather_station.detach(phone_display)\n",
        "    weather_station.set_temperature(30)  # Output: Laptop Display: The temperature is now 30°C\n"
      ],
      "metadata": {
        "colab": {
          "base_uri": "https://localhost:8080/"
        },
        "id": "IY4dkfxd1XFM",
        "outputId": "b18e8b2c-1de5-4a30-d976-41921f239b09"
      },
      "execution_count": 10,
      "outputs": [
        {
          "output_type": "stream",
          "name": "stdout",
          "text": [
            "Phone Display: The temperature is now 25°C\n",
            "Laptop Display: The temperature is now 25°C\n",
            "Laptop Display: The temperature is now 30°C\n"
          ]
        }
      ]
    },
    {
      "cell_type": "code",
      "source": [
        "# state pattern\n",
        "from abc import ABC, abstractmethod\n",
        "\n",
        "# State Interface\n",
        "class State(ABC):\n",
        "    @abstractmethod\n",
        "    def render(self):\n",
        "        pass\n",
        "\n",
        "    @abstractmethod\n",
        "    def publish(self):\n",
        "        pass\n",
        "\n",
        "# Concrete States\n",
        "class Draft(State):\n",
        "    def render(self):\n",
        "        print(\"Draft: Rendered the document for author review.\")\n",
        "\n",
        "    def publish(self):\n",
        "        print(\"Draft: Moved the document to moderation.\")\n",
        "        return Moderation()\n",
        "\n",
        "class Moderation(State):\n",
        "    def render(self):\n",
        "        print(\"Moderation: Document is under review and cannot be edited.\")\n",
        "\n",
        "    def publish(self):\n",
        "        print(\"Moderation: Document has been approved and published.\")\n",
        "        return Published()\n",
        "\n",
        "class Published(State):\n",
        "    def render(self):\n",
        "        print(\"Published: Document is live and can be viewed by readers.\")\n",
        "\n",
        "    def publish(self):\n",
        "        print(\"Published: Document is already published and cannot be republished.\")\n",
        "        return self\n",
        "\n",
        "# Context\n",
        "class Document:\n",
        "    def __init__(self, state: State):\n",
        "        self._state = state\n",
        "\n",
        "    def set_state(self, state: State):\n",
        "        self._state = state\n",
        "\n",
        "    def render(self):\n",
        "        self._state.render()\n",
        "\n",
        "    def publish(self):\n",
        "        self._state = self._state.publish()\n",
        "\n",
        "# Client code\n",
        "if __name__ == \"__main__\":\n",
        "    # Start with the document in Draft state\n",
        "    document = Document(Draft())\n",
        "\n",
        "    # Render the document in Draft state\n",
        "    document.render()  # Output: Draft: Rendered the document for author review.\n",
        "\n",
        "    # Publish the document to move it to Moderation state\n",
        "    document.publish()  # Output: Draft: Moved the document to moderation.\n",
        "\n",
        "    # Render the document in Moderation state\n",
        "    document.render()  # Output: Moderation: Document is under review and cannot be edited.\n",
        "\n",
        "    # Publish the document to move it to Published state\n",
        "    document.publish()  # Output: Moderation: Document has been approved and published.\n",
        "\n",
        "    # Render the document in Published state\n",
        "    document.render()  # Output: Published: Document is live and can be viewed by readers.\n",
        "\n",
        "    # Try publishing the document again in Published state\n",
        "    document.publish()  # Output: Published: Document is already published and cannot be republished.\n"
      ],
      "metadata": {
        "colab": {
          "base_uri": "https://localhost:8080/"
        },
        "id": "Weegc_xu4kd8",
        "outputId": "576e53c7-c937-4440-cf3e-5badd9e29f08"
      },
      "execution_count": 11,
      "outputs": [
        {
          "output_type": "stream",
          "name": "stdout",
          "text": [
            "Draft: Rendered the document for author review.\n",
            "Draft: Moved the document to moderation.\n",
            "Moderation: Document is under review and cannot be edited.\n",
            "Moderation: Document has been approved and published.\n",
            "Published: Document is live and can be viewed by readers.\n",
            "Published: Document is already published and cannot be republished.\n"
          ]
        }
      ]
    },
    {
      "cell_type": "code",
      "source": [],
      "metadata": {
        "id": "f-6MIBih67aH"
      },
      "execution_count": null,
      "outputs": []
    }
  ]
}