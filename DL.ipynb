{
  "nbformat": 4,
  "nbformat_minor": 0,
  "metadata": {
    "colab": {
      "provenance": [],
      "authorship_tag": "ABX9TyNnPg9+zkww28L901yT1tGK",
      "include_colab_link": true
    },
    "kernelspec": {
      "name": "python3",
      "display_name": "Python 3"
    },
    "language_info": {
      "name": "python"
    }
  },
  "cells": [
    {
      "cell_type": "markdown",
      "metadata": {
        "id": "view-in-github",
        "colab_type": "text"
      },
      "source": [
        "<a href=\"https://colab.research.google.com/github/rohitpan/datasciencecoursera/blob/master/DL.ipynb\" target=\"_parent\"><img src=\"https://colab.research.google.com/assets/colab-badge.svg\" alt=\"Open In Colab\"/></a>"
      ]
    },
    {
      "cell_type": "code",
      "source": [
        "class Solution:\n",
        "    def get_minimizer(self, iterations: int, learning_rate: float, init: int) -> float:\n",
        "            res = init\n",
        "            for _ in range(iterations) :\n",
        "                    res -= 2 * res * learning_rate\n",
        "            return round(res,5)"
      ],
      "metadata": {
        "id": "viTUpJlrDLLl"
      },
      "execution_count": null,
      "outputs": []
    },
    {
      "cell_type": "code",
      "source": [
        "import numpy as np\n",
        "from numpy.typing import NDArray\n",
        "\n",
        "\n",
        "# Helpful functions:\n",
        "# https://numpy.org/doc/stable/reference/generated/numpy.matmul.html\n",
        "# https://numpy.org/doc/stable/reference/generated/numpy.mean.html\n",
        "# https://numpy.org/doc/stable/reference/generated/numpy.square.html\n",
        "\n",
        "class Solution:\n",
        "\n",
        "    def get_model_prediction(self, X: NDArray[np.float64], weights: NDArray[np.float64]) -> NDArray[np.float64]:\n",
        "        # X is an Nx3 NumPy array\n",
        "        # weights is a 3x1 NumPy array\n",
        "        # HINT: np.matmul() will be useful\n",
        "        # return np.round(your_answer, 5)\n",
        "\n",
        "        return np.round(np.matmul(X,weights),5)\n",
        "\n",
        "\n",
        "    def get_error(self, model_prediction: NDArray[np.float64], ground_truth: NDArray[np.float64]) -> float:\n",
        "        # model_prediction is an Nx1 NumPy array\n",
        "        # ground_truth is an Nx1 NumPy array\n",
        "        # HINT: np.mean(), np.square() will be useful\n",
        "        # return round(your_answer, 5)\n",
        "\n",
        "        diff = model_prediction - ground_truth\n",
        "        diff_square = np.square(diff)\n",
        "\n",
        "        return round(np.mean(diff_square),5)\n",
        "\n"
      ],
      "metadata": {
        "id": "fyFcu_myDFO-"
      },
      "execution_count": null,
      "outputs": []
    },
    {
      "cell_type": "code",
      "execution_count": null,
      "metadata": {
        "id": "e7JTKsq3C-Ag"
      },
      "outputs": [],
      "source": [
        "import numpy as np\n",
        "from numpy.typing import NDArray\n",
        "\n",
        "\n",
        "class Solution:\n",
        "    def get_derivative(self, model_prediction: NDArray[np.float64], ground_truth: NDArray[np.float64], N: int, X: NDArray[np.float64], desired_weight: int) -> float:\n",
        "        # note that N is just len(X)\n",
        "        return -2 * np.dot(ground_truth - model_prediction, X[:, desired_weight]) / N\n",
        "\n",
        "    def get_model_prediction(self, X: NDArray[np.float64], weights: NDArray[np.float64]) -> NDArray[np.float64]:\n",
        "        return np.squeeze(np.matmul(X, weights))\n",
        "\n",
        "    learning_rate = 0.01\n",
        "\n",
        "    def train_model(\n",
        "        self,\n",
        "        X: NDArray[np.float64],\n",
        "        Y: NDArray[np.float64],\n",
        "        num_iterations: int,\n",
        "        initial_weights: NDArray[np.float64]\n",
        "    ) -> NDArray[np.float64]:\n",
        "\n",
        "        # you will need to call get_derivative() for each weight\n",
        "        # and update each one separately based on the learning rate!\n",
        "        # return np.round(your_answer, 5)\n",
        "        weights = initial_weights\n",
        "        N = len(X)\n",
        "\n",
        "        for _ in range(num_iterations):\n",
        "            prediction = self.get_model_prediction(X,weights)\n",
        "            for i in range(3):\n",
        "                weights[i] -= self.learning_rate * self.get_derivative(prediction,Y,N,X,i)\n",
        "\n",
        "        return np.round(weights,5)"
      ]
    },
    {
      "cell_type": "code",
      "source": [
        "import torch\n",
        "import torch.nn as nn\n",
        "from torchtyping import TensorType\n",
        "\n",
        "class Solution:\n",
        "    def get_dataset(self, positive: List[str], negative: List[str]) -> TensorType[float]:\n",
        "        # First let's get the total set of words\n",
        "        words = set()\n",
        "        combined = positive + negative\n",
        "        for sentence in combined:\n",
        "            for word in sentence.split():\n",
        "                words.add(word)\n",
        "\n",
        "        # Now let's build a mapping\n",
        "        sorted_list = sorted(list(words))\n",
        "        word_to_int = {}\n",
        "        for i, c in enumerate(sorted_list):\n",
        "            word_to_int[c] = i + 1\n",
        "\n",
        "        # Write encode() which is used to build the dataset\n",
        "        def encode(sentence):\n",
        "            integers = []\n",
        "            for word in sentence.split():\n",
        "                integers.append(word_to_int[word])\n",
        "            return integers\n",
        "\n",
        "        var_len_tensors = []\n",
        "        for sentence in combined:\n",
        "            var_len_tensors.append(torch.tensor(encode(sentence)))\n",
        "\n",
        "        return nn.utils.rnn.pad_sequence(var_len_tensors, batch_first = True)\n"
      ],
      "metadata": {
        "id": "DUdHM-SBDQMj"
      },
      "execution_count": null,
      "outputs": []
    }
  ]
}