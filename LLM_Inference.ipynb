{
  "nbformat": 4,
  "nbformat_minor": 0,
  "metadata": {
    "colab": {
      "provenance": [],
      "authorship_tag": "ABX9TyMAO0WOpQfmMzRqGAKh9Msd",
      "include_colab_link": true
    },
    "kernelspec": {
      "name": "python3",
      "display_name": "Python 3"
    },
    "language_info": {
      "name": "python"
    }
  },
  "cells": [
    {
      "cell_type": "markdown",
      "metadata": {
        "id": "view-in-github",
        "colab_type": "text"
      },
      "source": [
        "<a href=\"https://colab.research.google.com/github/rohitpan/datasciencecoursera/blob/master/LLM_Inference.ipynb\" target=\"_parent\"><img src=\"https://colab.research.google.com/assets/colab-badge.svg\" alt=\"Open In Colab\"/></a>"
      ]
    },
    {
      "cell_type": "code",
      "execution_count": null,
      "metadata": {
        "id": "Yb5d7fR35obj"
      },
      "outputs": [],
      "source": []
    },
    {
      "cell_type": "markdown",
      "source": [
        "LLM Inference has two stages : Prefill and Decode\n",
        "\n",
        "During **Prefill** the K and V caches gets calculated for the current tokens in the input. And the first new token is generated.\n",
        "\n",
        "For the subsequent token generation the K and V cache has new row added. And value for Q for the new token is calculated.\n",
        "\n",
        "Batching : Imporves the througput but also increase the latency\n",
        "\n"
      ],
      "metadata": {
        "id": "cPNYXpF-5sj4"
      }
    },
    {
      "cell_type": "code",
      "source": [],
      "metadata": {
        "id": "raFU7oeD7Le6"
      },
      "execution_count": null,
      "outputs": []
    },
    {
      "cell_type": "markdown",
      "source": [
        "**Quantization**\n",
        "* FP32 1 sign 8-bit exponent 23 mentissa\n",
        "\n",
        "* FP16 1 sign 5-bit exponent 10 bit mentissa\n",
        "* BP16(Brain FLoat) 1 sign 8 bit exponent 7 bit mentissa\n",
        "* FP8 1 sign 5 bit exponent 2 bit mentissa\n",
        "\n",
        "for tensor t calculate t.max, t.min\n",
        "scale = (t.max - t.min)/255\n",
        "zero_point = t.min\n",
        "state - (scale, zero_point)\n",
        "\n",
        "\n",
        "```\n",
        "quant(t)\n",
        " scale = (t.max - t.min)/255\n",
        " zero_point = t.min\n",
        " state - (scale, zero_point)\n",
        " t_quant = torch.clamp((t- zero_point)/scale,0,255)\n",
        " t_quant = t_quant.type(torch.uint8)\n",
        " return state, t_quant\n",
        "```\n",
        "```\n",
        "dequant(state,t_quant)\n",
        "  scale , zero_point = state\n",
        "  t = t_quant.to(torch.float32) * scale + zero_point\n",
        "```\n",
        "\n"
      ],
      "metadata": {
        "id": "F1ZS_8ImPhTm"
      }
    }
  ]
}